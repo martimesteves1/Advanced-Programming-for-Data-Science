{
 "cells": [
  {
   "cell_type": "markdown",
   "metadata": {},
   "source": [
    "### Imports"
   ]
  },
  {
   "cell_type": "code",
   "execution_count": 16,
   "metadata": {},
   "outputs": [],
   "source": [
    "import sys\n",
    "import os \n",
    "import math\n",
    "import pytest\n",
    "\n",
    "PARENT_PATH = os.path.dirname(os.getcwd())\n",
    "sys.path.append(os.path.join(PARENT_PATH, \"final_scripts\\\\day_1\"))\n",
    "\n",
    "from class_flight_data import FlightDataAnalyzer"
   ]
  },
  {
   "cell_type": "markdown",
   "metadata": {},
   "source": [
    "---\n",
    "### Function Definition"
   ]
  },
  {
   "cell_type": "code",
   "execution_count": 17,
   "metadata": {},
   "outputs": [],
   "source": [
    "def distance_to(analyzer, airport_1: str, airport_2: str) -> float:\n",
    "    \"\"\"\n",
    "    Calculates the real distance in kilometers between 'airport_1' and\n",
    "    'airport_2', based on information stored in analyzer\n",
    "    \n",
    "    Parameters\n",
    "    ---------------\n",
    "    analyzer:\n",
    "        Instance of FlightDataAnalyzer()\n",
    "    airport_1: string\n",
    "        ICAO code of the first airport.\n",
    "    airport_1: string\n",
    "        ICAO code of the second airport.\n",
    "        \n",
    "    Returns\n",
    "    ---------------\n",
    "    distance: float\n",
    "        The real distance in kilometers between 'airport_1' and \n",
    "        'airport_2'.\n",
    "    \"\"\"\n",
    "    df_airport_1 = analyzer.airports[\n",
    "        analyzer.airports[\"ICAO\"] == airport_1\n",
    "    ]\n",
    "    if df_airport_1.empty:\n",
    "        raise ValueError(f\"Airport code '{airport_1}' not found in airports dataset.\")\n",
    "        \n",
    "    df_airport_2 = analyzer.airports[\n",
    "        analyzer.airports[\"ICAO\"] == airport_2\n",
    "    ]\n",
    "    if df_airport_2.empty:\n",
    "        raise ValueError(f\"Airport code '{airport_2}' not found.\")\n",
    "    \n",
    "    # Convert latitude and longitude to radians\n",
    "    lat_1 = math.radians(float(df_airport_1[\"Latitude\"].iloc[0]))\n",
    "    lon_1 = math.radians(float(df_airport_1[\"Longitude\"].iloc[0]))\n",
    "    lat_2 = math.radians(float(df_airport_2[\"Latitude\"].iloc[0]))\n",
    "    lon_2 = math.radians(float(df_airport_2[\"Longitude\"].iloc[0]))\n",
    "\n",
    "    # Earth radius in kilometers\n",
    "    RADIUS = 6371\n",
    "\n",
    "    # Haversine formula to calculate distance\n",
    "    dlat = lat_2 - lat_1\n",
    "    dlon = lon_2 - lon_1\n",
    "    a = math.sin(dlat / 2) ** 2 + math.cos(lat_1) * math.cos(lat_2) * math.sin(dlon / 2) ** 2\n",
    "    c = 2 * math.atan2(math.sqrt(a), math.sqrt(1 - a))\n",
    "    distance = RADIUS * c\n",
    "    \n",
    "    return distance"
   ]
  },
  {
   "cell_type": "markdown",
   "metadata": {},
   "source": [
    "---\n",
    "### Testing Data"
   ]
  },
  {
   "cell_type": "code",
   "execution_count": 18,
   "metadata": {},
   "outputs": [
    {
     "name": "stdout",
     "output_type": "stream",
     "text": [
      "Data already downloaded\n"
     ]
    },
    {
     "data": {
      "text/html": [
       "<div>\n",
       "<style scoped>\n",
       "    .dataframe tbody tr th:only-of-type {\n",
       "        vertical-align: middle;\n",
       "    }\n",
       "\n",
       "    .dataframe tbody tr th {\n",
       "        vertical-align: top;\n",
       "    }\n",
       "\n",
       "    .dataframe thead th {\n",
       "        text-align: right;\n",
       "    }\n",
       "</style>\n",
       "<table border=\"1\" class=\"dataframe\">\n",
       "  <thead>\n",
       "    <tr style=\"text-align: right;\">\n",
       "      <th></th>\n",
       "      <th>Airport ID</th>\n",
       "      <th>Name</th>\n",
       "      <th>City</th>\n",
       "      <th>Country</th>\n",
       "      <th>IATA</th>\n",
       "      <th>ICAO</th>\n",
       "      <th>Latitude</th>\n",
       "      <th>Longitude</th>\n",
       "      <th>Altitude</th>\n",
       "      <th>Timezone</th>\n",
       "      <th>DST</th>\n",
       "      <th>Tz database time zone</th>\n",
       "    </tr>\n",
       "    <tr>\n",
       "      <th>index</th>\n",
       "      <th></th>\n",
       "      <th></th>\n",
       "      <th></th>\n",
       "      <th></th>\n",
       "      <th></th>\n",
       "      <th></th>\n",
       "      <th></th>\n",
       "      <th></th>\n",
       "      <th></th>\n",
       "      <th></th>\n",
       "      <th></th>\n",
       "      <th></th>\n",
       "    </tr>\n",
       "  </thead>\n",
       "  <tbody>\n",
       "    <tr>\n",
       "      <th>0</th>\n",
       "      <td>1</td>\n",
       "      <td>Goroka Airport</td>\n",
       "      <td>Goroka</td>\n",
       "      <td>Papua New Guinea</td>\n",
       "      <td>GKA</td>\n",
       "      <td>AYGA</td>\n",
       "      <td>-6.081690</td>\n",
       "      <td>145.391998</td>\n",
       "      <td>5282</td>\n",
       "      <td>10</td>\n",
       "      <td>U</td>\n",
       "      <td>Pacific/Port_Moresby</td>\n",
       "    </tr>\n",
       "    <tr>\n",
       "      <th>1</th>\n",
       "      <td>2</td>\n",
       "      <td>Madang Airport</td>\n",
       "      <td>Madang</td>\n",
       "      <td>Papua New Guinea</td>\n",
       "      <td>MAG</td>\n",
       "      <td>AYMD</td>\n",
       "      <td>-5.207080</td>\n",
       "      <td>145.789001</td>\n",
       "      <td>20</td>\n",
       "      <td>10</td>\n",
       "      <td>U</td>\n",
       "      <td>Pacific/Port_Moresby</td>\n",
       "    </tr>\n",
       "    <tr>\n",
       "      <th>2</th>\n",
       "      <td>3</td>\n",
       "      <td>Mount Hagen Kagamuga Airport</td>\n",
       "      <td>Mount Hagen</td>\n",
       "      <td>Papua New Guinea</td>\n",
       "      <td>HGU</td>\n",
       "      <td>AYMH</td>\n",
       "      <td>-5.826790</td>\n",
       "      <td>144.296005</td>\n",
       "      <td>5388</td>\n",
       "      <td>10</td>\n",
       "      <td>U</td>\n",
       "      <td>Pacific/Port_Moresby</td>\n",
       "    </tr>\n",
       "    <tr>\n",
       "      <th>3</th>\n",
       "      <td>4</td>\n",
       "      <td>Nadzab Airport</td>\n",
       "      <td>Nadzab</td>\n",
       "      <td>Papua New Guinea</td>\n",
       "      <td>LAE</td>\n",
       "      <td>AYNZ</td>\n",
       "      <td>-6.569803</td>\n",
       "      <td>146.725977</td>\n",
       "      <td>239</td>\n",
       "      <td>10</td>\n",
       "      <td>U</td>\n",
       "      <td>Pacific/Port_Moresby</td>\n",
       "    </tr>\n",
       "    <tr>\n",
       "      <th>4</th>\n",
       "      <td>5</td>\n",
       "      <td>Port Moresby Jacksons International Airport</td>\n",
       "      <td>Port Moresby</td>\n",
       "      <td>Papua New Guinea</td>\n",
       "      <td>POM</td>\n",
       "      <td>AYPY</td>\n",
       "      <td>-9.443380</td>\n",
       "      <td>147.220001</td>\n",
       "      <td>146</td>\n",
       "      <td>10</td>\n",
       "      <td>U</td>\n",
       "      <td>Pacific/Port_Moresby</td>\n",
       "    </tr>\n",
       "    <tr>\n",
       "      <th>...</th>\n",
       "      <td>...</td>\n",
       "      <td>...</td>\n",
       "      <td>...</td>\n",
       "      <td>...</td>\n",
       "      <td>...</td>\n",
       "      <td>...</td>\n",
       "      <td>...</td>\n",
       "      <td>...</td>\n",
       "      <td>...</td>\n",
       "      <td>...</td>\n",
       "      <td>...</td>\n",
       "      <td>...</td>\n",
       "    </tr>\n",
       "    <tr>\n",
       "      <th>7693</th>\n",
       "      <td>14106</td>\n",
       "      <td>Rogachyovo Air Base</td>\n",
       "      <td>Belaya</td>\n",
       "      <td>Russia</td>\n",
       "      <td>\\N</td>\n",
       "      <td>ULDA</td>\n",
       "      <td>71.616699</td>\n",
       "      <td>52.478298</td>\n",
       "      <td>272</td>\n",
       "      <td>\\N</td>\n",
       "      <td>\\N</td>\n",
       "      <td>\\N</td>\n",
       "    </tr>\n",
       "    <tr>\n",
       "      <th>7694</th>\n",
       "      <td>14107</td>\n",
       "      <td>Ulan-Ude East Airport</td>\n",
       "      <td>Ulan Ude</td>\n",
       "      <td>Russia</td>\n",
       "      <td>\\N</td>\n",
       "      <td>XIUW</td>\n",
       "      <td>51.849998</td>\n",
       "      <td>107.737999</td>\n",
       "      <td>1670</td>\n",
       "      <td>\\N</td>\n",
       "      <td>\\N</td>\n",
       "      <td>\\N</td>\n",
       "    </tr>\n",
       "    <tr>\n",
       "      <th>7695</th>\n",
       "      <td>14108</td>\n",
       "      <td>Krechevitsy Air Base</td>\n",
       "      <td>Novgorod</td>\n",
       "      <td>Russia</td>\n",
       "      <td>\\N</td>\n",
       "      <td>ULLK</td>\n",
       "      <td>58.625000</td>\n",
       "      <td>31.385000</td>\n",
       "      <td>85</td>\n",
       "      <td>\\N</td>\n",
       "      <td>\\N</td>\n",
       "      <td>\\N</td>\n",
       "    </tr>\n",
       "    <tr>\n",
       "      <th>7696</th>\n",
       "      <td>14109</td>\n",
       "      <td>Desierto de Atacama Airport</td>\n",
       "      <td>Copiapo</td>\n",
       "      <td>Chile</td>\n",
       "      <td>CPO</td>\n",
       "      <td>SCAT</td>\n",
       "      <td>-27.261200</td>\n",
       "      <td>-70.779198</td>\n",
       "      <td>670</td>\n",
       "      <td>\\N</td>\n",
       "      <td>\\N</td>\n",
       "      <td>\\N</td>\n",
       "    </tr>\n",
       "    <tr>\n",
       "      <th>7697</th>\n",
       "      <td>14110</td>\n",
       "      <td>Melitopol Air Base</td>\n",
       "      <td>Melitopol</td>\n",
       "      <td>Ukraine</td>\n",
       "      <td>\\N</td>\n",
       "      <td>UKDM</td>\n",
       "      <td>46.880001</td>\n",
       "      <td>35.305000</td>\n",
       "      <td>0</td>\n",
       "      <td>\\N</td>\n",
       "      <td>\\N</td>\n",
       "      <td>\\N</td>\n",
       "    </tr>\n",
       "  </tbody>\n",
       "</table>\n",
       "<p>7698 rows × 12 columns</p>\n",
       "</div>"
      ],
      "text/plain": [
       "       Airport ID                                         Name          City  \\\n",
       "index                                                                          \n",
       "0               1                               Goroka Airport        Goroka   \n",
       "1               2                               Madang Airport        Madang   \n",
       "2               3                 Mount Hagen Kagamuga Airport   Mount Hagen   \n",
       "3               4                               Nadzab Airport        Nadzab   \n",
       "4               5  Port Moresby Jacksons International Airport  Port Moresby   \n",
       "...           ...                                          ...           ...   \n",
       "7693        14106                          Rogachyovo Air Base        Belaya   \n",
       "7694        14107                        Ulan-Ude East Airport      Ulan Ude   \n",
       "7695        14108                         Krechevitsy Air Base      Novgorod   \n",
       "7696        14109                  Desierto de Atacama Airport       Copiapo   \n",
       "7697        14110                           Melitopol Air Base     Melitopol   \n",
       "\n",
       "                Country IATA  ICAO   Latitude   Longitude  Altitude Timezone  \\\n",
       "index                                                                          \n",
       "0      Papua New Guinea  GKA  AYGA  -6.081690  145.391998      5282       10   \n",
       "1      Papua New Guinea  MAG  AYMD  -5.207080  145.789001        20       10   \n",
       "2      Papua New Guinea  HGU  AYMH  -5.826790  144.296005      5388       10   \n",
       "3      Papua New Guinea  LAE  AYNZ  -6.569803  146.725977       239       10   \n",
       "4      Papua New Guinea  POM  AYPY  -9.443380  147.220001       146       10   \n",
       "...                 ...  ...   ...        ...         ...       ...      ...   \n",
       "7693             Russia   \\N  ULDA  71.616699   52.478298       272       \\N   \n",
       "7694             Russia   \\N  XIUW  51.849998  107.737999      1670       \\N   \n",
       "7695             Russia   \\N  ULLK  58.625000   31.385000        85       \\N   \n",
       "7696              Chile  CPO  SCAT -27.261200  -70.779198       670       \\N   \n",
       "7697            Ukraine   \\N  UKDM  46.880001   35.305000         0       \\N   \n",
       "\n",
       "      DST Tz database time zone  \n",
       "index                            \n",
       "0       U  Pacific/Port_Moresby  \n",
       "1       U  Pacific/Port_Moresby  \n",
       "2       U  Pacific/Port_Moresby  \n",
       "3       U  Pacific/Port_Moresby  \n",
       "4       U  Pacific/Port_Moresby  \n",
       "...    ..                   ...  \n",
       "7693   \\N                    \\N  \n",
       "7694   \\N                    \\N  \n",
       "7695   \\N                    \\N  \n",
       "7696   \\N                    \\N  \n",
       "7697   \\N                    \\N  \n",
       "\n",
       "[7698 rows x 12 columns]"
      ]
     },
     "metadata": {},
     "output_type": "display_data"
    }
   ],
   "source": [
    "# Testing the final output\n",
    "analyzer = FlightDataAnalyzer()\n",
    "df_test = analyzer.airports\n",
    "display(df_test)\n",
    "\n",
    "# list of unique codes\n",
    "iata = df_test[\"IATA\"].unique()\n",
    "icao = df_test[\"ICAO\"].unique()"
   ]
  },
  {
   "cell_type": "code",
   "execution_count": 10,
   "metadata": {},
   "outputs": [
    {
     "data": {
      "text/html": [
       "<div>\n",
       "<style scoped>\n",
       "    .dataframe tbody tr th:only-of-type {\n",
       "        vertical-align: middle;\n",
       "    }\n",
       "\n",
       "    .dataframe tbody tr th {\n",
       "        vertical-align: top;\n",
       "    }\n",
       "\n",
       "    .dataframe thead th {\n",
       "        text-align: right;\n",
       "    }\n",
       "</style>\n",
       "<table border=\"1\" class=\"dataframe\">\n",
       "  <thead>\n",
       "    <tr style=\"text-align: right;\">\n",
       "      <th></th>\n",
       "      <th>Airport ID</th>\n",
       "      <th>Name</th>\n",
       "      <th>City</th>\n",
       "      <th>Country</th>\n",
       "      <th>IATA</th>\n",
       "      <th>ICAO</th>\n",
       "      <th>Latitude</th>\n",
       "      <th>Longitude</th>\n",
       "      <th>Altitude</th>\n",
       "      <th>Timezone</th>\n",
       "      <th>DST</th>\n",
       "      <th>Tz database time zone</th>\n",
       "    </tr>\n",
       "    <tr>\n",
       "      <th>index</th>\n",
       "      <th></th>\n",
       "      <th></th>\n",
       "      <th></th>\n",
       "      <th></th>\n",
       "      <th></th>\n",
       "      <th></th>\n",
       "      <th></th>\n",
       "      <th></th>\n",
       "      <th></th>\n",
       "      <th></th>\n",
       "      <th></th>\n",
       "      <th></th>\n",
       "    </tr>\n",
       "  </thead>\n",
       "  <tbody>\n",
       "    <tr>\n",
       "      <th>4769</th>\n",
       "      <td>6134</td>\n",
       "      <td>Akutan Seaplane Base</td>\n",
       "      <td>Akutan</td>\n",
       "      <td>United States</td>\n",
       "      <td>KQA</td>\n",
       "      <td>KQA</td>\n",
       "      <td>54.13377</td>\n",
       "      <td>-165.778896</td>\n",
       "      <td>0</td>\n",
       "      <td>-9</td>\n",
       "      <td>A</td>\n",
       "      <td>America/Anchorage</td>\n",
       "    </tr>\n",
       "  </tbody>\n",
       "</table>\n",
       "</div>"
      ],
      "text/plain": [
       "       Airport ID                  Name  ... DST Tz database time zone\n",
       "index                                    ...                          \n",
       "4769         6134  Akutan Seaplane Base  ...   A     America/Anchorage\n",
       "\n",
       "[1 rows x 12 columns]"
      ]
     },
     "metadata": {},
     "output_type": "display_data"
    },
    {
     "data": {
      "text/html": [
       "<div>\n",
       "<style scoped>\n",
       "    .dataframe tbody tr th:only-of-type {\n",
       "        vertical-align: middle;\n",
       "    }\n",
       "\n",
       "    .dataframe tbody tr th {\n",
       "        vertical-align: top;\n",
       "    }\n",
       "\n",
       "    .dataframe thead th {\n",
       "        text-align: right;\n",
       "    }\n",
       "</style>\n",
       "<table border=\"1\" class=\"dataframe\">\n",
       "  <thead>\n",
       "    <tr style=\"text-align: right;\">\n",
       "      <th></th>\n",
       "      <th>Airport ID</th>\n",
       "      <th>Name</th>\n",
       "      <th>City</th>\n",
       "      <th>Country</th>\n",
       "      <th>IATA</th>\n",
       "      <th>ICAO</th>\n",
       "      <th>Latitude</th>\n",
       "      <th>Longitude</th>\n",
       "      <th>Altitude</th>\n",
       "      <th>Timezone</th>\n",
       "      <th>DST</th>\n",
       "      <th>Tz database time zone</th>\n",
       "    </tr>\n",
       "    <tr>\n",
       "      <th>index</th>\n",
       "      <th></th>\n",
       "      <th></th>\n",
       "      <th></th>\n",
       "      <th></th>\n",
       "      <th></th>\n",
       "      <th></th>\n",
       "      <th></th>\n",
       "      <th></th>\n",
       "      <th></th>\n",
       "      <th></th>\n",
       "      <th></th>\n",
       "      <th></th>\n",
       "    </tr>\n",
       "  </thead>\n",
       "  <tbody>\n",
       "    <tr>\n",
       "      <th>4769</th>\n",
       "      <td>6134</td>\n",
       "      <td>Akutan Seaplane Base</td>\n",
       "      <td>Akutan</td>\n",
       "      <td>United States</td>\n",
       "      <td>KQA</td>\n",
       "      <td>KQA</td>\n",
       "      <td>54.13377</td>\n",
       "      <td>-165.778896</td>\n",
       "      <td>0</td>\n",
       "      <td>-9</td>\n",
       "      <td>A</td>\n",
       "      <td>America/Anchorage</td>\n",
       "    </tr>\n",
       "  </tbody>\n",
       "</table>\n",
       "</div>"
      ],
      "text/plain": [
       "       Airport ID                  Name  ... DST Tz database time zone\n",
       "index                                    ...                          \n",
       "4769         6134  Akutan Seaplane Base  ...   A     America/Anchorage\n",
       "\n",
       "[1 rows x 12 columns]"
      ]
     },
     "metadata": {},
     "output_type": "display_data"
    }
   ],
   "source": [
    "# Check for equal codes - no different airports with same codes\n",
    "display(df_test[(df_test[\"IATA\"].isin(icao)) & (df_test[\"IATA\"]!=r\"\\N\")])\n",
    "display(df_test[(df_test[\"ICAO\"].isin(iata)) & (df_test[\"ICAO\"]!=r\"\\N\")])"
   ]
  },
  {
   "cell_type": "code",
   "execution_count": 12,
   "metadata": {},
   "outputs": [
    {
     "data": {
      "text/html": [
       "<div>\n",
       "<style scoped>\n",
       "    .dataframe tbody tr th:only-of-type {\n",
       "        vertical-align: middle;\n",
       "    }\n",
       "\n",
       "    .dataframe tbody tr th {\n",
       "        vertical-align: top;\n",
       "    }\n",
       "\n",
       "    .dataframe thead th {\n",
       "        text-align: right;\n",
       "    }\n",
       "</style>\n",
       "<table border=\"1\" class=\"dataframe\">\n",
       "  <thead>\n",
       "    <tr style=\"text-align: right;\">\n",
       "      <th></th>\n",
       "      <th>Airport ID</th>\n",
       "      <th>Name</th>\n",
       "      <th>City</th>\n",
       "      <th>Country</th>\n",
       "      <th>IATA</th>\n",
       "      <th>ICAO</th>\n",
       "      <th>Latitude</th>\n",
       "      <th>Longitude</th>\n",
       "      <th>Altitude</th>\n",
       "      <th>Timezone</th>\n",
       "      <th>DST</th>\n",
       "      <th>Tz database time zone</th>\n",
       "    </tr>\n",
       "    <tr>\n",
       "      <th>index</th>\n",
       "      <th></th>\n",
       "      <th></th>\n",
       "      <th></th>\n",
       "      <th></th>\n",
       "      <th></th>\n",
       "      <th></th>\n",
       "      <th></th>\n",
       "      <th></th>\n",
       "      <th></th>\n",
       "      <th></th>\n",
       "      <th></th>\n",
       "      <th></th>\n",
       "    </tr>\n",
       "  </thead>\n",
       "  <tbody>\n",
       "  </tbody>\n",
       "</table>\n",
       "</div>"
      ],
      "text/plain": [
       "Empty DataFrame\n",
       "Columns: [Airport ID, Name, City, Country, IATA, ICAO, Latitude, Longitude, Altitude, Timezone, DST, Tz database time zone]\n",
       "Index: []"
      ]
     },
     "metadata": {},
     "output_type": "display_data"
    },
    {
     "data": {
      "text/html": [
       "<div>\n",
       "<style scoped>\n",
       "    .dataframe tbody tr th:only-of-type {\n",
       "        vertical-align: middle;\n",
       "    }\n",
       "\n",
       "    .dataframe tbody tr th {\n",
       "        vertical-align: top;\n",
       "    }\n",
       "\n",
       "    .dataframe thead th {\n",
       "        text-align: right;\n",
       "    }\n",
       "</style>\n",
       "<table border=\"1\" class=\"dataframe\">\n",
       "  <thead>\n",
       "    <tr style=\"text-align: right;\">\n",
       "      <th></th>\n",
       "      <th>Airport ID</th>\n",
       "      <th>Name</th>\n",
       "      <th>City</th>\n",
       "      <th>Country</th>\n",
       "      <th>IATA</th>\n",
       "      <th>ICAO</th>\n",
       "      <th>Latitude</th>\n",
       "      <th>Longitude</th>\n",
       "      <th>Altitude</th>\n",
       "      <th>Timezone</th>\n",
       "      <th>DST</th>\n",
       "      <th>Tz database time zone</th>\n",
       "    </tr>\n",
       "    <tr>\n",
       "      <th>index</th>\n",
       "      <th></th>\n",
       "      <th></th>\n",
       "      <th></th>\n",
       "      <th></th>\n",
       "      <th></th>\n",
       "      <th></th>\n",
       "      <th></th>\n",
       "      <th></th>\n",
       "      <th></th>\n",
       "      <th></th>\n",
       "      <th></th>\n",
       "      <th></th>\n",
       "    </tr>\n",
       "  </thead>\n",
       "  <tbody>\n",
       "    <tr>\n",
       "      <th>5823</th>\n",
       "      <td>7846</td>\n",
       "      <td>Arlington Municipal Airport</td>\n",
       "      <td>Arlington</td>\n",
       "      <td>United States</td>\n",
       "      <td>\\N</td>\n",
       "      <td>KGKY</td>\n",
       "      <td>32.663898</td>\n",
       "      <td>-97.094299</td>\n",
       "      <td>628</td>\n",
       "      <td>-6</td>\n",
       "      <td>A</td>\n",
       "      <td>America/Chicago</td>\n",
       "    </tr>\n",
       "    <tr>\n",
       "      <th>6131</th>\n",
       "      <td>8394</td>\n",
       "      <td>Shelby County Airport</td>\n",
       "      <td>Alabaster</td>\n",
       "      <td>United States</td>\n",
       "      <td>\\N</td>\n",
       "      <td>KEET</td>\n",
       "      <td>33.176998</td>\n",
       "      <td>-86.782799</td>\n",
       "      <td>586</td>\n",
       "      <td>-6</td>\n",
       "      <td>A</td>\n",
       "      <td>America/Chicago</td>\n",
       "    </tr>\n",
       "    <tr>\n",
       "      <th>6540</th>\n",
       "      <td>9305</td>\n",
       "      <td>Shelby County Airport</td>\n",
       "      <td>Shelbyville</td>\n",
       "      <td>United States</td>\n",
       "      <td>\\N</td>\n",
       "      <td>K2H0</td>\n",
       "      <td>39.410400</td>\n",
       "      <td>-88.845398</td>\n",
       "      <td>618</td>\n",
       "      <td>-6</td>\n",
       "      <td>A</td>\n",
       "      <td>America/Chicago</td>\n",
       "    </tr>\n",
       "    <tr>\n",
       "      <th>6876</th>\n",
       "      <td>11141</td>\n",
       "      <td>Arlington Municipal Airport</td>\n",
       "      <td>Arlington</td>\n",
       "      <td>United States</td>\n",
       "      <td>\\N</td>\n",
       "      <td>KAWO</td>\n",
       "      <td>48.160702</td>\n",
       "      <td>-122.158997</td>\n",
       "      <td>142</td>\n",
       "      <td>-8</td>\n",
       "      <td>A</td>\n",
       "      <td>\\N</td>\n",
       "    </tr>\n",
       "  </tbody>\n",
       "</table>\n",
       "</div>"
      ],
      "text/plain": [
       "       Airport ID                         Name  ... DST Tz database time zone\n",
       "index                                           ...                          \n",
       "5823         7846  Arlington Municipal Airport  ...   A       America/Chicago\n",
       "6131         8394        Shelby County Airport  ...   A       America/Chicago\n",
       "6540         9305        Shelby County Airport  ...   A       America/Chicago\n",
       "6876        11141  Arlington Municipal Airport  ...   A                    \\N\n",
       "\n",
       "[4 rows x 12 columns]"
      ]
     },
     "metadata": {},
     "output_type": "display_data"
    },
    {
     "data": {
      "text/html": [
       "<div>\n",
       "<style scoped>\n",
       "    .dataframe tbody tr th:only-of-type {\n",
       "        vertical-align: middle;\n",
       "    }\n",
       "\n",
       "    .dataframe tbody tr th {\n",
       "        vertical-align: top;\n",
       "    }\n",
       "\n",
       "    .dataframe thead th {\n",
       "        text-align: right;\n",
       "    }\n",
       "</style>\n",
       "<table border=\"1\" class=\"dataframe\">\n",
       "  <thead>\n",
       "    <tr style=\"text-align: right;\">\n",
       "      <th></th>\n",
       "      <th>Airport ID</th>\n",
       "      <th>Name</th>\n",
       "      <th>City</th>\n",
       "      <th>Country</th>\n",
       "      <th>IATA</th>\n",
       "      <th>ICAO</th>\n",
       "      <th>Latitude</th>\n",
       "      <th>Longitude</th>\n",
       "      <th>Altitude</th>\n",
       "      <th>Timezone</th>\n",
       "      <th>DST</th>\n",
       "      <th>Tz database time zone</th>\n",
       "    </tr>\n",
       "    <tr>\n",
       "      <th>index</th>\n",
       "      <th></th>\n",
       "      <th></th>\n",
       "      <th></th>\n",
       "      <th></th>\n",
       "      <th></th>\n",
       "      <th></th>\n",
       "      <th></th>\n",
       "      <th></th>\n",
       "      <th></th>\n",
       "      <th></th>\n",
       "      <th></th>\n",
       "      <th></th>\n",
       "    </tr>\n",
       "  </thead>\n",
       "  <tbody>\n",
       "  </tbody>\n",
       "</table>\n",
       "</div>"
      ],
      "text/plain": [
       "Empty DataFrame\n",
       "Columns: [Airport ID, Name, City, Country, IATA, ICAO, Latitude, Longitude, Altitude, Timezone, DST, Tz database time zone]\n",
       "Index: []"
      ]
     },
     "metadata": {},
     "output_type": "display_data"
    }
   ],
   "source": [
    "# Check duplicates - some duplicates in Name, IATA combination\n",
    "display(df_test[df_test.duplicated(subset=[\"Name\", \"ICAO\"], keep=False)])\n",
    "display(df_test[df_test.duplicated(subset=[\"Name\", \"IATA\"], keep=False)])\n",
    "display(df_test[df_test.duplicated(subset=[\"IATA\", \"ICAO\"], keep=False)])\n"
   ]
  },
  {
   "cell_type": "code",
   "execution_count": 14,
   "metadata": {},
   "outputs": [
    {
     "data": {
      "text/plain": [
       "0"
      ]
     },
     "metadata": {},
     "output_type": "display_data"
    },
    {
     "data": {
      "text/plain": [
       "1626"
      ]
     },
     "metadata": {},
     "output_type": "display_data"
    },
    {
     "data": {
      "text/plain": [
       "1"
      ]
     },
     "metadata": {},
     "output_type": "display_data"
    }
   ],
   "source": [
    "# Count number of \\N in Name IATA and ICAO - IATA is very incomplete, ICAO only has a single problematic entry\n",
    "display(df_test[df_test[\"Name\"] == r\"\\N\"].shape[0])\n",
    "display(df_test[df_test[\"IATA\"] == r\"\\N\"].shape[0])\n",
    "display(df_test[df_test[\"ICAO\"] == r\"\\N\"].shape[0])\n",
    "\n",
    "display(df_test[df_test[\"ICAO\"] == r\"\\N\"])"
   ]
  },
  {
   "cell_type": "code",
   "execution_count": 20,
   "metadata": {},
   "outputs": [
    {
     "data": {
      "text/html": [
       "<div>\n",
       "<style scoped>\n",
       "    .dataframe tbody tr th:only-of-type {\n",
       "        vertical-align: middle;\n",
       "    }\n",
       "\n",
       "    .dataframe tbody tr th {\n",
       "        vertical-align: top;\n",
       "    }\n",
       "\n",
       "    .dataframe thead th {\n",
       "        text-align: right;\n",
       "    }\n",
       "</style>\n",
       "<table border=\"1\" class=\"dataframe\">\n",
       "  <thead>\n",
       "    <tr style=\"text-align: right;\">\n",
       "      <th></th>\n",
       "      <th>Airport ID</th>\n",
       "      <th>Name</th>\n",
       "      <th>City</th>\n",
       "      <th>Country</th>\n",
       "      <th>IATA</th>\n",
       "      <th>ICAO</th>\n",
       "      <th>Latitude</th>\n",
       "      <th>Longitude</th>\n",
       "      <th>Altitude</th>\n",
       "      <th>Timezone</th>\n",
       "      <th>DST</th>\n",
       "      <th>Tz database time zone</th>\n",
       "    </tr>\n",
       "    <tr>\n",
       "      <th>index</th>\n",
       "      <th></th>\n",
       "      <th></th>\n",
       "      <th></th>\n",
       "      <th></th>\n",
       "      <th></th>\n",
       "      <th></th>\n",
       "      <th></th>\n",
       "      <th></th>\n",
       "      <th></th>\n",
       "      <th></th>\n",
       "      <th></th>\n",
       "      <th></th>\n",
       "    </tr>\n",
       "  </thead>\n",
       "  <tbody>\n",
       "    <tr>\n",
       "      <th>737</th>\n",
       "      <td>753</td>\n",
       "      <td>[Duplicate] Giebelstadt Army Air Field</td>\n",
       "      <td>Giebelstadt</td>\n",
       "      <td>Germany</td>\n",
       "      <td>GHF</td>\n",
       "      <td>ETEU</td>\n",
       "      <td>49.648102</td>\n",
       "      <td>9.96649</td>\n",
       "      <td>980</td>\n",
       "      <td>1</td>\n",
       "      <td>E</td>\n",
       "      <td>Europe/Berlin</td>\n",
       "    </tr>\n",
       "    <tr>\n",
       "      <th>4519</th>\n",
       "      <td>5849</td>\n",
       "      <td>(Duplicate) Playa Samara Airport</td>\n",
       "      <td>Playa Samara</td>\n",
       "      <td>Costa Rica</td>\n",
       "      <td>\\N</td>\n",
       "      <td>MRSR</td>\n",
       "      <td>9.870000</td>\n",
       "      <td>-85.48000</td>\n",
       "      <td>10</td>\n",
       "      <td>-6</td>\n",
       "      <td>U</td>\n",
       "      <td>America/Costa_Rica</td>\n",
       "    </tr>\n",
       "    <tr>\n",
       "      <th>7358</th>\n",
       "      <td>13011</td>\n",
       "      <td>[Duplicate] Illertissen see EDMI - ED-0425 loc...</td>\n",
       "      <td>Not Specified</td>\n",
       "      <td>New Zealand</td>\n",
       "      <td>\\N</td>\n",
       "      <td>XXXX</td>\n",
       "      <td>89.500000</td>\n",
       "      <td>0.00010</td>\n",
       "      <td>0</td>\n",
       "      <td>0</td>\n",
       "      <td>U</td>\n",
       "      <td>\\N</td>\n",
       "    </tr>\n",
       "  </tbody>\n",
       "</table>\n",
       "</div>"
      ],
      "text/plain": [
       "       Airport ID  ... Tz database time zone\n",
       "index              ...                      \n",
       "737           753  ...         Europe/Berlin\n",
       "4519         5849  ...    America/Costa_Rica\n",
       "7358        13011  ...                    \\N\n",
       "\n",
       "[3 rows x 12 columns]"
      ]
     },
     "metadata": {},
     "output_type": "display_data"
    }
   ],
   "source": [
    "# Name has some problematic entries with tag (Duplicate) - so function will use ICAO as inputs\n",
    "display(df_test[\n",
    "    df_test[\"Name\"].apply(lambda x: str.find(x, \"Duplicate\") != -1)\n",
    "])"
   ]
  },
  {
   "cell_type": "markdown",
   "metadata": {},
   "source": [
    "---\n",
    "### Testing Function Outputs"
   ]
  },
  {
   "cell_type": "code",
   "execution_count": 23,
   "metadata": {},
   "outputs": [
    {
     "name": "stdout",
     "output_type": "stream",
     "text": [
      "106.7138992902683\n"
     ]
    }
   ],
   "source": [
    "# Using the first two entries of the airports df - manual calculations and online calculations have the same value\n",
    "airport_1 = \"AYGA\"\n",
    "airport_2 = \"AYMD\"\n",
    "print(distance_to(analyzer, airport_1, airport_2))"
   ]
  },
  {
   "cell_type": "markdown",
   "metadata": {},
   "source": [
    "---\n",
    "### Testing Functionalities"
   ]
  },
  {
   "cell_type": "code",
   "execution_count": 30,
   "metadata": {},
   "outputs": [
    {
     "ename": "ValueError",
     "evalue": "Airport code 'error_code' not found in airports dataset.",
     "output_type": "error",
     "traceback": [
      "\u001b[1;31m---------------------------------------------------------------------------\u001b[0m",
      "\u001b[1;31mValueError\u001b[0m                                Traceback (most recent call last)",
      "Cell \u001b[1;32mIn[30], line 4\u001b[0m\n\u001b[0;32m      2\u001b[0m airport_1 \u001b[38;5;241m=\u001b[39m \u001b[38;5;124m\"\u001b[39m\u001b[38;5;124merror_code\u001b[39m\u001b[38;5;124m\"\u001b[39m\n\u001b[0;32m      3\u001b[0m airport_2 \u001b[38;5;241m=\u001b[39m \u001b[38;5;124m\"\u001b[39m\u001b[38;5;124mAYMD\u001b[39m\u001b[38;5;124m\"\u001b[39m\n\u001b[1;32m----> 4\u001b[0m \u001b[38;5;28mprint\u001b[39m(\u001b[43mdistance_to\u001b[49m\u001b[43m(\u001b[49m\u001b[43manalyzer\u001b[49m\u001b[43m,\u001b[49m\u001b[43m \u001b[49m\u001b[43mairport_1\u001b[49m\u001b[43m,\u001b[49m\u001b[43m \u001b[49m\u001b[43mairport_2\u001b[49m\u001b[43m)\u001b[49m)\n",
      "Cell \u001b[1;32mIn[29], line 25\u001b[0m, in \u001b[0;36mdistance_to\u001b[1;34m(analyzer, airport_1, airport_2)\u001b[0m\n\u001b[0;32m     21\u001b[0m df_airport_1 \u001b[38;5;241m=\u001b[39m analyzer\u001b[38;5;241m.\u001b[39mairports[\n\u001b[0;32m     22\u001b[0m     analyzer\u001b[38;5;241m.\u001b[39mairports[\u001b[38;5;124m\"\u001b[39m\u001b[38;5;124mICAO\u001b[39m\u001b[38;5;124m\"\u001b[39m] \u001b[38;5;241m==\u001b[39m airport_1\n\u001b[0;32m     23\u001b[0m ]\n\u001b[0;32m     24\u001b[0m \u001b[38;5;28;01mif\u001b[39;00m df_airport_1\u001b[38;5;241m.\u001b[39mempty:\n\u001b[1;32m---> 25\u001b[0m     \u001b[38;5;28;01mraise\u001b[39;00m \u001b[38;5;167;01mValueError\u001b[39;00m(\u001b[38;5;124mf\u001b[39m\u001b[38;5;124m\"\u001b[39m\u001b[38;5;124mAirport code \u001b[39m\u001b[38;5;124m'\u001b[39m\u001b[38;5;132;01m{\u001b[39;00mairport_1\u001b[38;5;132;01m}\u001b[39;00m\u001b[38;5;124m'\u001b[39m\u001b[38;5;124m not found in airports dataset.\u001b[39m\u001b[38;5;124m\"\u001b[39m)\n\u001b[0;32m     27\u001b[0m df_airport_2 \u001b[38;5;241m=\u001b[39m analyzer\u001b[38;5;241m.\u001b[39mairports[\n\u001b[0;32m     28\u001b[0m     analyzer\u001b[38;5;241m.\u001b[39mairports[\u001b[38;5;124m\"\u001b[39m\u001b[38;5;124mICAO\u001b[39m\u001b[38;5;124m\"\u001b[39m] \u001b[38;5;241m==\u001b[39m airport_2\n\u001b[0;32m     29\u001b[0m ]\n\u001b[0;32m     30\u001b[0m \u001b[38;5;28;01mif\u001b[39;00m df_airport_2\u001b[38;5;241m.\u001b[39mempty:\n",
      "\u001b[1;31mValueError\u001b[0m: Airport code 'error_code' not found in airports dataset."
     ]
    }
   ],
   "source": [
    "# Test if error raise works - ValueError raised correctly\n",
    "airport_1 = \"error_code\"\n",
    "airport_2 = \"AYMD\"\n",
    "print(distance_to(analyzer, airport_1, airport_2))"
   ]
  },
  {
   "cell_type": "markdown",
   "metadata": {},
   "source": [
    "---\n",
    "### Run black and pylint & Test mypy on function script"
   ]
  },
  {
   "cell_type": "code",
   "execution_count": 34,
   "metadata": {},
   "outputs": [
    {
     "name": "stderr",
     "output_type": "stream",
     "text": [
      "reformatted ..\\tests\\day_1\\function_pylint.py\n",
      "\n",
      "All done! ✨ 🍰 ✨\n",
      "1 file reformatted.\n"
     ]
    }
   ],
   "source": [
    "# Black (also ran for the file in final_scripts)\n",
    "!black ..\\tests\\day_1\\function_pylint.py"
   ]
  },
  {
   "cell_type": "code",
   "execution_count": 38,
   "metadata": {},
   "outputs": [
    {
     "name": "stdout",
     "output_type": "stream",
     "text": [
      "************* Module function_pylint\n",
      "c:\\Users\\marti\\OneDrive - Nova SBE\\Nova\\Master's in Business Analytics\\Disciplinas\\2nd Semester\\t1\\Advanced Programming for Data Science\\ADPRO_Project\\tests\\day_1\\function_pylint.py:44:4: C0103: Variable name \"RADIUS\" doesn't conform to snake_case naming style (invalid-name)\n",
      "\n",
      "------------------------------------------------------------------\n",
      "Your code has been rated at 9.47/10 (previous run: 9.47/10, +0.00)\n",
      "\n"
     ]
    }
   ],
   "source": [
    "# First pylint run - Only one error about the naming of RADIUS (this follows PEP 8 convention for constants, so no change will be implemented)\n",
    "!pylint ..\\tests\\day_1\\function_pylint.py"
   ]
  },
  {
   "cell_type": "code",
   "execution_count": 6,
   "metadata": {},
   "outputs": [
    {
     "name": "stdout",
     "output_type": "stream",
     "text": [
      "..\\tests\\day_1\\function_mypy.py:8: \u001b[1m\u001b[91merror:\u001b[0m Cannot find implementation or library stub for module named \u001b[0m\u001b[1m\"class_flight_data\"\u001b[0m  \u001b[0m\u001b[93m[import-not-found]\u001b[0m\n",
      "..\\tests\\day_1\\function_mypy.py:8: \u001b[94mnote:\u001b[0m See \u001b[4mhttps://mypy.readthedocs.io/en/stable/running_mypy.html#missing-imports\u001b[0m\u001b[0m\n",
      "..\\tests\\day_1\\function_mypy.py:63: \u001b[1m\u001b[91merror:\u001b[0m Argument 1 to \u001b[0m\u001b[1m\"distance_to\"\u001b[0m has incompatible type \u001b[0m\u001b[1m\"int\"\u001b[0m; expected \u001b[0m\u001b[1m\"str\"\u001b[0m  \u001b[0m\u001b[93m[arg-type]\u001b[0m\n",
      "\u001b[1m\u001b[91mFound 2 errors in 1 file (checked 1 source file)\u001b[0m\n"
     ]
    }
   ],
   "source": [
    "# mypy (slightly altered file to execute within script) - ignore the import error since mypy cannot find it due to env configuration\n",
    "!mypy ..\\tests\\day_1\\function_mypy.py"
   ]
  },
  {
   "cell_type": "markdown",
   "metadata": {},
   "source": [
    "---\n",
    "### Custom Tests (for pytest task)\n",
    "[Check expected values using this website.](https://www.meridianoutpost.com/resources/etools/calculators/calculator-latitude-longitude-distance.php)"
   ]
  },
  {
   "cell_type": "code",
   "execution_count": 24,
   "metadata": {},
   "outputs": [
    {
     "name": "stdout",
     "output_type": "stream",
     "text": [
      "Data already downloaded\n",
      "10751.328161197485\n"
     ]
    }
   ],
   "source": [
    "# Test two airports in different continents\n",
    "def test_continent():\n",
    "    \"\"\"Test distant calculation for airports in different continents.\"\"\"\n",
    "    analyzer = FlightDataAnalyzer()\n",
    "    airport_oceania = \"AYGA\"  # Oceania\n",
    "    airport_asia = \"ULDA\"  # Asia/Europe (in Russia)\n",
    "    expected_distance  = 10750.81\n",
    "    assert round(\n",
    "        distance_to(analyzer, airport_oceania, airport_asia)\n",
    "    ) == round(expected_distance)\n",
    "test_continent()\n",
    "print(distance_to(analyzer, \"AYGA\", \"ULDA\"))"
   ]
  },
  {
   "cell_type": "code",
   "execution_count": 27,
   "metadata": {},
   "outputs": [
    {
     "name": "stdout",
     "output_type": "stream",
     "text": [
      "Data already downloaded\n"
     ]
    },
    {
     "ename": "ValueError",
     "evalue": "Airport code 'invalid_code' not found.",
     "output_type": "error",
     "traceback": [
      "\u001b[1;31m---------------------------------------------------------------------------\u001b[0m",
      "\u001b[1;31mValueError\u001b[0m                                Traceback (most recent call last)",
      "Cell \u001b[1;32mIn[27], line 11\u001b[0m\n\u001b[0;32m      8\u001b[0m         distance_to(analyzer, airport_1, airport_invalid)\n\u001b[0;32m     10\u001b[0m test_error()\n\u001b[1;32m---> 11\u001b[0m \u001b[43mdistance_to\u001b[49m\u001b[43m(\u001b[49m\u001b[43manalyzer\u001b[49m\u001b[43m,\u001b[49m\u001b[43m \u001b[49m\u001b[38;5;124;43m\"\u001b[39;49m\u001b[38;5;124;43mAYGA\u001b[39;49m\u001b[38;5;124;43m\"\u001b[39;49m\u001b[43m,\u001b[49m\u001b[43m \u001b[49m\u001b[38;5;124;43m\"\u001b[39;49m\u001b[38;5;124;43minvalid_code\u001b[39;49m\u001b[38;5;124;43m\"\u001b[39;49m\u001b[43m)\u001b[49m\n",
      "Cell \u001b[1;32mIn[17], line 31\u001b[0m, in \u001b[0;36mdistance_to\u001b[1;34m(analyzer, airport_1, airport_2)\u001b[0m\n\u001b[0;32m     27\u001b[0m df_airport_2 \u001b[38;5;241m=\u001b[39m analyzer\u001b[38;5;241m.\u001b[39mairports[\n\u001b[0;32m     28\u001b[0m     analyzer\u001b[38;5;241m.\u001b[39mairports[\u001b[38;5;124m\"\u001b[39m\u001b[38;5;124mICAO\u001b[39m\u001b[38;5;124m\"\u001b[39m] \u001b[38;5;241m==\u001b[39m airport_2\n\u001b[0;32m     29\u001b[0m ]\n\u001b[0;32m     30\u001b[0m \u001b[38;5;28;01mif\u001b[39;00m df_airport_2\u001b[38;5;241m.\u001b[39mempty:\n\u001b[1;32m---> 31\u001b[0m     \u001b[38;5;28;01mraise\u001b[39;00m \u001b[38;5;167;01mValueError\u001b[39;00m(\u001b[38;5;124mf\u001b[39m\u001b[38;5;124m\"\u001b[39m\u001b[38;5;124mAirport code \u001b[39m\u001b[38;5;124m'\u001b[39m\u001b[38;5;132;01m{\u001b[39;00mairport_2\u001b[38;5;132;01m}\u001b[39;00m\u001b[38;5;124m'\u001b[39m\u001b[38;5;124m not found.\u001b[39m\u001b[38;5;124m\"\u001b[39m)\n\u001b[0;32m     33\u001b[0m \u001b[38;5;66;03m# Convert latitude and longitude to radians\u001b[39;00m\n\u001b[0;32m     34\u001b[0m lat_1 \u001b[38;5;241m=\u001b[39m math\u001b[38;5;241m.\u001b[39mradians(\u001b[38;5;28mfloat\u001b[39m(df_airport_1[\u001b[38;5;124m\"\u001b[39m\u001b[38;5;124mLatitude\u001b[39m\u001b[38;5;124m\"\u001b[39m]\u001b[38;5;241m.\u001b[39miloc[\u001b[38;5;241m0\u001b[39m]))\n",
      "\u001b[1;31mValueError\u001b[0m: Airport code 'invalid_code' not found."
     ]
    }
   ],
   "source": [
    "# Test if ValueError is raised when invalid code is input\n",
    "def test_error_code():\n",
    "    \"\"\"Test if function identifies invalid ICAO codes.\"\"\"\n",
    "    analyzer = FlightDataAnalyzer()\n",
    "    airport_1 = \"AYGA\"\n",
    "    airport_invalid = \"invalid_code\"\n",
    "    with pytest.raises(ValueError):\n",
    "        distance_to(analyzer, airport_1, airport_invalid)\n",
    "test_error_code()\n",
    "distance_to(analyzer, \"AYGA\", \"invalid_code\")"
   ]
  },
  {
   "cell_type": "code",
   "execution_count": 30,
   "metadata": {},
   "outputs": [
    {
     "name": "stdout",
     "output_type": "stream",
     "text": [
      "Data already downloaded\n"
     ]
    },
    {
     "data": {
      "text/plain": [
       "0.0"
      ]
     },
     "execution_count": 30,
     "metadata": {},
     "output_type": "execute_result"
    }
   ],
   "source": [
    "# Test if function can handle the distance between an airport and itself\n",
    "def test_same():\n",
    "    \"\"\"Test if function can handle airports with same location.\"\"\"\n",
    "    analyzer = FlightDataAnalyzer()\n",
    "    airport_1 = \"AYGA\"\n",
    "    assert distance_to(analyzer, airport_1, airport_1) == 0\n",
    "test_same()\n",
    "distance_to(analyzer, \"AYGA\", \"AYGA\")"
   ]
  },
  {
   "cell_type": "code",
   "execution_count": 32,
   "metadata": {},
   "outputs": [
    {
     "name": "stdout",
     "output_type": "stream",
     "text": [
      "\u001b[1m============================= test session starts =============================\u001b[0m\n",
      "platform win32 -- Python 3.11.8, pytest-8.0.2, pluggy-1.4.0\n",
      "rootdir: c:\\Users\\marti\\OneDrive - Nova SBE\\Nova\\Master's in Business Analytics\\Disciplinas\\2nd Semester\\t1\\Advanced Programming for Data Science\\ADPRO_Project\n",
      "collected 3 items\n",
      "\n",
      "..\\final_scripts\\day_1\\function_test_distance.py \u001b[32m.\u001b[0m\u001b[32m.\u001b[0m\u001b[32m.\u001b[0m\u001b[33m                     [100%]\u001b[0m\n",
      "\n",
      "\u001b[33m============================== warnings summary ===============================\u001b[0m\n",
      "..\\..\\..\\..\\..\\..\\..\\..\\..\\AppData\\Local\\Packages\\PythonSoftwareFoundation.Python.3.11_qbz5n2kfra8p0\\LocalCache\\local-packages\\Python311\\site-packages\\pydantic\\_internal\\_config.py:210\n",
      "  C:\\Users\\marti\\AppData\\Local\\Packages\\PythonSoftwareFoundation.Python.3.11_qbz5n2kfra8p0\\LocalCache\\local-packages\\Python311\\site-packages\\pydantic\\_internal\\_config.py:210: PydanticDeprecatedSince20: Support for class-based `config` is deprecated, use ConfigDict instead. Deprecated in Pydantic V2.0 to be removed in V3.0. See Pydantic V2 Migration Guide at https://errors.pydantic.dev/2.0.3/migration/\n",
      "    warnings.warn(DEPRECATION_MESSAGE, DeprecationWarning)\n",
      "\n",
      "-- Docs: https://docs.pytest.org/en/stable/how-to/capture-warnings.html\n",
      "\u001b[33m======================== \u001b[32m3 passed\u001b[0m, \u001b[33m\u001b[1m1 warning\u001b[0m\u001b[33m in 1.96s\u001b[0m\u001b[33m =========================\u001b[0m\n"
     ]
    }
   ],
   "source": [
    "# run pytest - all tests passed, just one warning for pydantic in the output\n",
    "!pytest ..\\final_scripts\\day_1\\function_test_distance.py"
   ]
  },
  {
   "cell_type": "markdown",
   "metadata": {},
   "source": [
    "---\n",
    "### Run black and pylint on test script"
   ]
  },
  {
   "cell_type": "code",
   "execution_count": 34,
   "metadata": {},
   "outputs": [
    {
     "name": "stderr",
     "output_type": "stream",
     "text": [
      "reformatted ..\\final_scripts\\day_1\\function_test_distance.py\n",
      "\n",
      "All done! ✨ 🍰 ✨\n",
      "1 file reformatted.\n"
     ]
    }
   ],
   "source": [
    "# Black (also ran for the file in final_scripts)\n",
    "!black ..\\tests\\day_1\\function_test_pylint.py"
   ]
  },
  {
   "cell_type": "code",
   "execution_count": 44,
   "metadata": {},
   "outputs": [
    {
     "name": "stdout",
     "output_type": "stream",
     "text": [
      "************* Module function_test_pylint\n",
      "c:\\Users\\marti\\OneDrive - Nova SBE\\Nova\\Master's in Business Analytics\\Disciplinas\\2nd Semester\\t1\\Advanced Programming for Data Science\\ADPRO_Project\\tests\\day_1\\function_test_pylint.py:7:0: E0401: Unable to import 'class_flight_data' (import-error)\n",
      "c:\\Users\\marti\\OneDrive - Nova SBE\\Nova\\Master's in Business Analytics\\Disciplinas\\2nd Semester\\t1\\Advanced Programming for Data Science\\ADPRO_Project\\tests\\day_1\\function_test_pylint.py:8:0: E0401: Unable to import 'function_calculate_distance' (import-error)\n",
      "\n",
      "------------------------------------------------------------------\n",
      "Your code has been rated at 4.74/10 (previous run: 4.74/10, +0.00)\n",
      "\n"
     ]
    }
   ],
   "source": [
    "# First pylint run - only issues found are related to import errors related to env\n",
    "!pylint ..\\tests\\day_1\\function_test_pylint.py"
   ]
  },
  {
   "cell_type": "code",
   "execution_count": 47,
   "metadata": {},
   "outputs": [
    {
     "name": "stdout",
     "output_type": "stream",
     "text": [
      "\n",
      "--------------------------------------------------------------------\n",
      "Your code has been rated at 10.00/10 (previous run: 10.00/10, +0.00)\n",
      "\n"
     ]
    }
   ],
   "source": [
    "# Second pylint run - from the same directory as the modules causing import error\n",
    "!pylint ..\\final_scripts\\day_1\\function_test_distance.py"
   ]
  }
 ],
 "metadata": {
  "kernelspec": {
   "display_name": "Python 3",
   "language": "python",
   "name": "python3"
  },
  "language_info": {
   "codemirror_mode": {
    "name": "ipython",
    "version": 3
   },
   "file_extension": ".py",
   "mimetype": "text/x-python",
   "name": "python",
   "nbconvert_exporter": "python",
   "pygments_lexer": "ipython3",
   "version": "3.11.8"
  }
 },
 "nbformat": 4,
 "nbformat_minor": 2
}
